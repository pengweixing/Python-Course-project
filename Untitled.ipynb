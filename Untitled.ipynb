{
 "cells": [
  {
   "cell_type": "code",
   "execution_count": 9,
   "id": "5b7289ef",
   "metadata": {},
   "outputs": [],
   "source": [
    "import pandas as pd\n",
    "import argparse\n",
    "import sys\n",
    "from draw_spatial import SpatialPlot\n",
    "import numpy  as np\n",
    "\n",
    "# Define the size of the heart\n",
    "size = 50\n",
    "\n",
    "# Create a NumPy array of zeros with the same size as the heart\n",
    "data = np.zeros((size, size))\n",
    "\n",
    "# Iterate over the rows and columns and set the values to 1 for the heart shape\n",
    "for i in range(size):\n",
    "    for j in range(size):\n",
    "        x = (i - size/2)/(size/2)\n",
    "        y = (j - size/2)/(size/2)\n",
    "        if x**2 + y**2 - 1 <= 0:\n",
    "            data[i][j] = np.random.random_sample(1)[0]\n",
    "        else:\n",
    "            data[i][j] = np.nan\n",
    "\n",
    "# Create a Pandas DataFrame with the NumPy array\n",
    "df = pd.DataFrame(data)\n"
   ]
  },
  {
   "cell_type": "code",
   "execution_count": 34,
   "id": "a8b96411",
   "metadata": {},
   "outputs": [],
   "source": [
    "each_plot = SpatialPlot(data = df,oformat = 'png',dpi=300,height=6,width=6,)"
   ]
  },
  {
   "cell_type": "code",
   "execution_count": 35,
   "id": "bcb00181",
   "metadata": {},
   "outputs": [],
   "source": [
    "each_plot.project_GeneMatrix_to_spatial(data=df,output='aa')"
   ]
  },
  {
   "cell_type": "markdown",
   "id": "62aed5c7",
   "metadata": {},
   "source": [
    "# Python-Course-project\n",
    "\n",
    "## Project\n",
    "\n",
    "I am working on 2-D cell image visulization. For a given animal tissue, we could detect the target gene signal for each cell. After detection, we could get a matrix data, but there are lots of NA values since not all cells are detectable and the tissue are usually in irregular shape. It is very important to provide a tool to visualize the cell-signal matrix data.\n",
    "\n",
    "My goals are:\n",
    "\n",
    "- Implement this task by using Matplolib\n",
    "- Avoid using imshow and other heatmap function\n",
    "- Provide user-friendly API to make it easy to call by other people\n",
    "- Make the code elegant and provide readable annotation"
   ]
  },
  {
   "cell_type": "markdown",
   "id": "a8857c4a",
   "metadata": {},
   "source": [
    "##  Example of API\n",
    "```python\n",
    "import pandas as pd\n",
    "import argparse\n",
    "import sys\n",
    "from draw_spatial import SpatialPlot\n",
    "import numpy  as np\n",
    "\n",
    "# Define the size of the heart\n",
    "size = 50\n",
    "\n",
    "# Create a NumPy array of zeros with the same size as the heart\n",
    "data = np.zeros((size, size))\n",
    "\n",
    "# Iterate over the rows and columns and set the values to 1 for the heart shape\n",
    "for i in range(size):\n",
    "    for j in range(size):\n",
    "        x = (i - size/2)/(size/2)\n",
    "        y = (j - size/2)/(size/2)\n",
    "        if x**2 + y**2 - 1 <= 0:\n",
    "            data[i][j] = np.random.random_sample(1)[0]\n",
    "        else:\n",
    "            data[i][j] = np.nan\n",
    "\n",
    "# Create a Pandas DataFrame with the NumPy array\n",
    "df = pd.DataFrame(data)\n",
    "each_plot = SpatialPlot(data = df,oformat = 'png',dpi=300,height=6,width=6,)\n",
    "each_plot.project_GeneMatrix_to_spatial(data=df,output='aa')\n",
    "```\n",
    "<img src=\"./aa.spatial.png\" height=\"100\" width=\"400\">"
   ]
  },
  {
   "cell_type": "markdown",
   "id": "f7ece17b",
   "metadata": {},
   "source": [
    "## Tutorials:\n",
    "\n",
    "- ```python plot_gene_matrix_to_spatial.py -m Gene_score_matrix.txt -n gene.list -b coordinates.txt -cm Reds -im PCR5_2.png -a 1 -fm png```\n",
    "<img src=\"./Xkr4.tissue.png\" width=\"400\">\n",
    "\n",
    "- ```python plot_cluster_spatial.py  -m cell_index_vs_cluster.txt -b coordinates.txt -c colorcode_group.txt -o All.cluster.tissue -im PCR5_2.png -a 1 -fm png```\n",
    "<img src=\"./All.cluster.tissue.tissue.png\" width=\"400\">\n",
    "\n",
    "- ```python plot_cluster_spatial.py  -m cell_index_vs_cluster.txt -b coordinates.txt -c colorcode_group.txt -o All.cluster.tissue -fm png```\n",
    "<img src=\"./All.cluster.spatial.png\" width=\"400\">"
   ]
  },
  {
   "cell_type": "code",
   "execution_count": null,
   "id": "20727b79",
   "metadata": {},
   "outputs": [],
   "source": []
  },
  {
   "cell_type": "code",
   "execution_count": null,
   "id": "3e03b4cf",
   "metadata": {},
   "outputs": [],
   "source": []
  },
  {
   "cell_type": "code",
   "execution_count": null,
   "id": "b574689e",
   "metadata": {},
   "outputs": [],
   "source": []
  },
  {
   "cell_type": "code",
   "execution_count": null,
   "id": "fccac0d0",
   "metadata": {},
   "outputs": [],
   "source": []
  },
  {
   "cell_type": "code",
   "execution_count": null,
   "id": "da0262fe",
   "metadata": {},
   "outputs": [],
   "source": []
  },
  {
   "cell_type": "code",
   "execution_count": null,
   "id": "083c3efa",
   "metadata": {},
   "outputs": [],
   "source": []
  }
 ],
 "metadata": {
  "kernelspec": {
   "display_name": "Python 3 (ipykernel)",
   "language": "python",
   "name": "python3"
  },
  "language_info": {
   "codemirror_mode": {
    "name": "ipython",
    "version": 3
   },
   "file_extension": ".py",
   "mimetype": "text/x-python",
   "name": "python",
   "nbconvert_exporter": "python",
   "pygments_lexer": "ipython3",
   "version": "3.9.15"
  }
 },
 "nbformat": 4,
 "nbformat_minor": 5
}
